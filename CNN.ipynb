{
 "cells": [
  {
   "cell_type": "code",
   "execution_count": 76,
   "id": "a5e1bce6-9c7d-4120-9ddc-15dae69edaac",
   "metadata": {},
   "outputs": [],
   "source": [
    "import numpy\n",
    "import random\n",
    "import matplotlib.pyplot as plt\n",
    "from keras.models import Sequential\n",
    "from keras.layers import Dense, Dropout, Flatten, BatchNormalization, Activation\n",
    "from keras.layers.convolutional import Conv2D, MaxPooling2D\n",
    "from keras.constraints import maxnorm\n",
    "from keras.utils import np_utils\n",
    "from keras.optimizers import SGD\n",
    "from keras.datasets import mnist\n",
    "from keras.utils import to_categorical"
   ]
  },
  {
   "cell_type": "markdown",
   "id": "934947fe-5333-4dd2-a570-3306a7e3a608",
   "metadata": {},
   "source": [
    "# Data\n",
    "## Loading"
   ]
  },
  {
   "cell_type": "code",
   "execution_count": 48,
   "id": "69f30c02-19c9-4698-a3ef-1878f0114902",
   "metadata": {},
   "outputs": [],
   "source": [
    "(trainX, trainY), (testX, testY) = mnist.load_data()"
   ]
  },
  {
   "cell_type": "code",
   "execution_count": 49,
   "id": "c6eab9fb-c131-47d6-90d9-35d3a0b92377",
   "metadata": {},
   "outputs": [],
   "source": [
    "Y_test_for_later = testY\n",
    "X_test_for_later = testX"
   ]
  },
  {
   "cell_type": "markdown",
   "id": "e7b737e0-a2a7-487e-b9e0-31f6ecdd0163",
   "metadata": {},
   "source": [
    "## Preparation"
   ]
  },
  {
   "cell_type": "markdown",
   "id": "1fcfaca3-15ef-4304-98bd-50df92fa1831",
   "metadata": {},
   "source": [
    "We put picture on a shape of $28 \\times 28$ pixels and 1 color (shade of grey)"
   ]
  },
  {
   "cell_type": "code",
   "execution_count": 50,
   "id": "bafef6ab-cefe-4269-8a58-6514a597f3d5",
   "metadata": {},
   "outputs": [],
   "source": [
    "trainX = trainX.reshape((trainX.shape[0], 28, 28, 1))\n",
    "testX = testX.reshape((testX.shape[0], 28, 28, 1))"
   ]
  },
  {
   "cell_type": "markdown",
   "id": "fe5696d8-6fea-4a7a-9974-9ee98aaa4730",
   "metadata": {},
   "source": [
    "One hot encode target value"
   ]
  },
  {
   "cell_type": "code",
   "execution_count": 51,
   "id": "c20d2500-2495-4b96-a1c9-1fec5a3ea6a1",
   "metadata": {},
   "outputs": [],
   "source": [
    "trainY = to_categorical(trainY)\n",
    "testY = to_categorical(testY)"
   ]
  },
  {
   "cell_type": "markdown",
   "id": "aad4d776-cd63-4321-9a73-f99c28ae7deb",
   "metadata": {},
   "source": [
    "convert from integers to floats"
   ]
  },
  {
   "cell_type": "code",
   "execution_count": 52,
   "id": "a44fbeec-22f1-4a1f-8efb-ecd1d05d7acf",
   "metadata": {},
   "outputs": [],
   "source": [
    "trainX = trainX.astype('float32')\n",
    "testX = testX.astype('float32')"
   ]
  },
  {
   "cell_type": "markdown",
   "id": "9ebce054-31f4-4105-91b5-965816259da8",
   "metadata": {},
   "source": [
    "Normalize to range 0-1"
   ]
  },
  {
   "cell_type": "code",
   "execution_count": 53,
   "id": "f5155510-72c3-458b-81a3-2e1b350c777c",
   "metadata": {},
   "outputs": [],
   "source": [
    "train_norm = trainX / 255.0\n",
    "test_norm = testX/ 255.0"
   ]
  },
  {
   "cell_type": "markdown",
   "id": "4c675607-0e7f-48a4-a5e4-06e8aaaaa4f6",
   "metadata": {},
   "source": [
    "# Model"
   ]
  },
  {
   "cell_type": "markdown",
   "id": "0259e34e-bffb-4cf9-a453-a38416038aba",
   "metadata": {},
   "source": [
    "## CNN creation"
   ]
  },
  {
   "cell_type": "markdown",
   "id": "25b6e994-578b-47e7-8045-1fca7ec926a5",
   "metadata": {},
   "source": [
    "We create sequential model is created, which allows a linear stack of layers to be defined.\\\n",
    "We add a 2D convolution layer with 16 filters of size  ($5 \\times 5$) and a 'relu' activation function.\\\n",
    "We add a pooling layer with a pooling window ($2 \\times2$ ) to reduce the data dimension.\\\n",
    "With the Flatten() layer, we transform data into one dimension vector.\\\n",
    "We add a dense layer with 100 neurons with a 'relu' activation function.\\\n",
    "And we add the last layer : a layer with 10 neurons for each class and 'softmax' activation function"
   ]
  },
  {
   "cell_type": "code",
   "execution_count": 83,
   "id": "7c46c4e0-89ac-46ef-b13d-3651f1bbae19",
   "metadata": {},
   "outputs": [],
   "source": [
    "model = Sequential()\n",
    "model.add(Conv2D(16, (5,5), activation ='relu', input_shape = (28,28,1)))\n",
    "model.add(MaxPooling2D((2, 2)))\n",
    "model.add(Flatten())\n",
    "model.add(Dense(100, activation='relu'))\n",
    "model.add(Dense(10, activation='softmax'))"
   ]
  },
  {
   "cell_type": "markdown",
   "id": "b6e065e4-43bf-4cc6-aa64-e8da7d843ba4",
   "metadata": {},
   "source": [
    "Compile model"
   ]
  },
  {
   "cell_type": "code",
   "execution_count": 84,
   "id": "25059809-1695-4cb0-9cae-c9ca634a16a2",
   "metadata": {},
   "outputs": [],
   "source": [
    "opt = SGD(learning_rate=0.01, momentum=0.9)\n",
    "model.compile(optimizer=opt, loss='categorical_crossentropy', metrics=['accuracy'])"
   ]
  },
  {
   "cell_type": "markdown",
   "id": "09390a68-7d22-48d3-80e8-1e4b320fc018",
   "metadata": {},
   "source": [
    "Fit model"
   ]
  },
  {
   "cell_type": "code",
   "execution_count": 85,
   "id": "79e16e1c-828b-4252-8765-42c151d69c70",
   "metadata": {},
   "outputs": [
    {
     "name": "stdout",
     "output_type": "stream",
     "text": [
      "Epoch 1/10\n",
      "1875/1875 - 28s - loss: 0.1884 - accuracy: 0.9418 - val_loss: 0.0656 - val_accuracy: 0.9788 - 28s/epoch - 15ms/step\n",
      "Epoch 2/10\n",
      "1875/1875 - 26s - loss: 0.0604 - accuracy: 0.9813 - val_loss: 0.0496 - val_accuracy: 0.9838 - 26s/epoch - 14ms/step\n",
      "Epoch 3/10\n",
      "1875/1875 - 24s - loss: 0.0394 - accuracy: 0.9879 - val_loss: 0.0435 - val_accuracy: 0.9855 - 24s/epoch - 13ms/step\n",
      "Epoch 4/10\n",
      "1875/1875 - 26s - loss: 0.0295 - accuracy: 0.9907 - val_loss: 0.0346 - val_accuracy: 0.9893 - 26s/epoch - 14ms/step\n",
      "Epoch 5/10\n",
      "1875/1875 - 26s - loss: 0.0230 - accuracy: 0.9927 - val_loss: 0.0418 - val_accuracy: 0.9870 - 26s/epoch - 14ms/step\n",
      "Epoch 6/10\n",
      "1875/1875 - 26s - loss: 0.0171 - accuracy: 0.9945 - val_loss: 0.0336 - val_accuracy: 0.9893 - 26s/epoch - 14ms/step\n",
      "Epoch 7/10\n",
      "1875/1875 - 25s - loss: 0.0134 - accuracy: 0.9960 - val_loss: 0.0355 - val_accuracy: 0.9895 - 25s/epoch - 14ms/step\n",
      "Epoch 8/10\n",
      "1875/1875 - 25s - loss: 0.0096 - accuracy: 0.9969 - val_loss: 0.0381 - val_accuracy: 0.9894 - 25s/epoch - 13ms/step\n",
      "Epoch 9/10\n",
      "1875/1875 - 25s - loss: 0.0068 - accuracy: 0.9984 - val_loss: 0.0359 - val_accuracy: 0.9887 - 25s/epoch - 13ms/step\n",
      "Epoch 10/10\n",
      "1875/1875 - 26s - loss: 0.0055 - accuracy: 0.9983 - val_loss: 0.0354 - val_accuracy: 0.9897 - 26s/epoch - 14ms/step\n"
     ]
    },
    {
     "data": {
      "text/plain": [
       "<keras.callbacks.History at 0x1e6e5033c70>"
      ]
     },
     "execution_count": 85,
     "metadata": {},
     "output_type": "execute_result"
    }
   ],
   "source": [
    "model.fit(train_norm, trainY, epochs=10, batch_size=32, validation_data=(test_norm, testY), verbose=2)"
   ]
  },
  {
   "cell_type": "markdown",
   "id": "5d7f9065-5638-4731-924f-65b86f58a14d",
   "metadata": {},
   "source": [
    "# Evaluation du model"
   ]
  },
  {
   "cell_type": "code",
   "execution_count": 86,
   "id": "62ac9683-4b16-46f6-91c1-edb282f9fded",
   "metadata": {},
   "outputs": [
    {
     "name": "stdout",
     "output_type": "stream",
     "text": [
      "313/313 [==============================] - 2s 7ms/step - loss: 0.0354 - accuracy: 0.9897\n",
      "Accuracy on test data: 98.97 %\n"
     ]
    }
   ],
   "source": [
    "test_loss, test_acc = model.evaluate(test_norm, testY)\n",
    "print(\"Accuracy on test data:\", round(test_acc*100,2), \"%\")"
   ]
  },
  {
   "cell_type": "markdown",
   "id": "b5b2515f-7863-4969-a206-76a1927b7736",
   "metadata": {},
   "source": [
    "## Visualization of misclassified data"
   ]
  },
  {
   "cell_type": "code",
   "execution_count": 87,
   "id": "b02733c6-c3e0-4414-a3d5-3bc7f6ccc66e",
   "metadata": {},
   "outputs": [
    {
     "name": "stdout",
     "output_type": "stream",
     "text": [
      "313/313 [==============================] - 2s 6ms/step\n"
     ]
    }
   ],
   "source": [
    "predictions = model.predict(test_norm)\n",
    "predicted_classes = numpy.argmax(predictions, axis =1)"
   ]
  },
  {
   "cell_type": "code",
   "execution_count": 88,
   "id": "07cfa839-c707-46ea-9654-19cbb320308d",
   "metadata": {},
   "outputs": [],
   "source": [
    "misclassified_indices = numpy.where(predicted_classes != Y_test_for_later)"
   ]
  },
  {
   "cell_type": "code",
   "execution_count": 89,
   "id": "6035eeda-0dca-4b77-8bd0-c38779be19cd",
   "metadata": {},
   "outputs": [
    {
     "data": {
      "image/png": "[encoded data removed]",
      "text/plain": [
       "<Figure size 432x288 with 1 Axes>"
      ]
     },
     "metadata": {
      "needs_background": "light"
     },
     "output_type": "display_data"
    },
    {
     "data": {
      "image/png": "[encoded data removed]",
      "text/plain": [
       "<Figure size 432x288 with 1 Axes>"
      ]
     },
     "metadata": {
      "needs_background": "light"
     },
     "output_type": "display_data"
    },
    {
     "data": {
      "image/png": "[encoded data removed]",
      "text/plain": [
       "<Figure size 432x288 with 1 Axes>"
      ]
     },
     "metadata": {
      "needs_background": "light"
     },
     "output_type": "display_data"
    },
    {
     "data": {
      "image/png": "[encoded data removed]",
      "text/plain": [
       "<Figure size 432x288 with 1 Axes>"
      ]
     },
     "metadata": {
      "needs_background": "light"
     },
     "output_type": "display_data"
    },
    {
     "data": {
      "image/png": "[encoded data removed]",
      "text/plain": [
       "<Figure size 432x288 with 1 Axes>"
      ]
     },
     "metadata": {
      "needs_background": "light"
     },
     "output_type": "display_data"
    },
    {
     "data": {
      "image/png": "[encoded data removed]",
      "text/plain": [
       "<Figure size 432x288 with 1 Axes>"
      ]
     },
     "metadata": {
      "needs_background": "light"
     },
     "output_type": "display_data"
    },
    {
     "data": {
      "image/png": "[encoded data removed]",
      "text/plain": [
       "<Figure size 432x288 with 1 Axes>"
      ]
     },
     "metadata": {
      "needs_background": "light"
     },
     "output_type": "display_data"
    },
    {
     "data": {
      "image/png": "[encoded data removed]",
      "text/plain": [
       "<Figure size 432x288 with 1 Axes>"
      ]
     },
     "metadata": {
      "needs_background": "light"
     },
     "output_type": "display_data"
    },
    {
     "data": {
      "image/png": "[encoded data removed]",
      "text/plain": [
       "<Figure size 432x288 with 1 Axes>"
      ]
     },
     "metadata": {
      "needs_background": "light"
     },
     "output_type": "display_data"
    },
    {
     "data": {
      "image/png": "[encoded data removed]",
      "text/plain": [
       "<Figure size 432x288 with 1 Axes>"
      ]
     },
     "metadata": {
      "needs_background": "light"
     },
     "output_type": "display_data"
    }
   ],
   "source": [
    "Picture_data  = X_test_for_later.reshape((X_test_for_later.shape[0], 28, 28, 1))\n",
    "sample = random.sample(list(misclassified_indices[0]),10)\n",
    "for index in sample:\n",
    "    plt.imshow(Picture_data[index])\n",
    "    plt.title(f\"True Label = {Y_test_for_later[index]}, Predicted: {predicted_classes[index]}\")\n",
    "    plt.show()"
   ]
  },
  {
   "cell_type": "code",
   "execution_count": null,
   "id": "46499f74-ccdb-420e-83ba-18130c4b1752",
   "metadata": {},
   "outputs": [],
   "source": []
  }
 ],
 "metadata": {
  "kernelspec": {
   "display_name": "Python 3 (ipykernel)",
   "language": "python",
   "name": "python3"
  },
  "language_info": {
   "codemirror_mode": {
    "name": "ipython",
    "version": 3
   },
   "file_extension": ".py",
   "mimetype": "text/x-python",
   "name": "python",
   "nbconvert_exporter": "python",
   "pygments_lexer": "ipython3",
   "version": "3.9.7"
  }
 },
 "nbformat": 4,
 "nbformat_minor": 5
}
