{
 "cells": [
  {
   "cell_type": "code",
   "execution_count": 1,
   "id": "0da90224-33b5-4e12-9725-f97023e3d1a4",
   "metadata": {},
   "outputs": [],
   "source": [
    "from sklearn.datasets import fetch_openml\n",
    "import matplotlib.pyplot as plt\n",
    "import numpy as np\n",
    "import random as rd\n",
    "from sklearn.linear_model import SGDClassifier\n",
    "from sklearn.model_selection import cross_val_score"
   ]
  },
  {
   "cell_type": "markdown",
   "id": "6e4a89b8-0fe7-43f5-9021-347cb3592abb",
   "metadata": {},
   "source": [
    "# Data\n",
    "## Loading"
   ]
  },
  {
   "cell_type": "code",
   "execution_count": 2,
   "id": "64f8f686-2192-48f1-92bc-9191c26693e4",
   "metadata": {},
   "outputs": [],
   "source": [
    "mnist_data = fetch_openml('mnist_784',version = 1)"
   ]
  },
  {
   "cell_type": "markdown",
   "id": "62a80a60-22da-412b-a34a-f076237e63c4",
   "metadata": {},
   "source": [
    "## Exploration"
   ]
  },
  {
   "cell_type": "code",
   "execution_count": 3,
   "id": "7691562e-9b99-4af0-a674-94a971b77a20",
   "metadata": {},
   "outputs": [
    {
     "name": "stdout",
     "output_type": "stream",
     "text": [
      "Shape of X: (70000, 784) \n",
      "Shape of y: (70000,)\n"
     ]
    }
   ],
   "source": [
    "X, y = mnist_data['data'], mnist_data['target']\n",
    "print('Shape of X:', X.shape, '\\nShape of y:', y.shape)"
   ]
  },
  {
   "cell_type": "code",
   "execution_count": 4,
   "id": "d0e5510e-862a-4148-a1a7-0150bf72b67d",
   "metadata": {},
   "outputs": [
    {
     "data": {
      "image/png": "[encoded data removed]",
      "text/plain": [
       "<Figure size 648x648 with 25 Axes>"
      ]
     },
     "metadata": {
      "needs_background": "light"
     },
     "output_type": "display_data"
    }
   ],
   "source": [
    "plt.figure(figsize=(9,9))\n",
    "for i in np.arange(1,26):\n",
    "    digit= X.iloc[i-1]\n",
    "    digit_pixels = np.array(digit).reshape(28,28)\n",
    "    plt.subplot(5,5,i)\n",
    "    plt.imshow(digit_pixels)\n",
    "    plt.axis('off')\n",
    "plt.show()"
   ]
  },
  {
   "cell_type": "code",
   "execution_count": 5,
   "id": "0d7e2b27-f6b4-48c6-8c39-862e91639fb5",
   "metadata": {},
   "outputs": [
    {
     "data": {
      "text/plain": [
       "numpy.uint8"
      ]
     },
     "execution_count": 5,
     "metadata": {},
     "output_type": "execute_result"
    }
   ],
   "source": [
    "y = y.astype(np.uint8)\n",
    "type(y[0])"
   ]
  },
  {
   "cell_type": "code",
   "execution_count": 6,
   "id": "c81b97f9-87c0-40f8-bc91-fe80991eb1a3",
   "metadata": {},
   "outputs": [],
   "source": [
    "## Separation into training and test data"
   ]
  },
  {
   "cell_type": "code",
   "execution_count": 7,
   "id": "df83acd9-71a9-4044-9003-4e4359657500",
   "metadata": {},
   "outputs": [],
   "source": [
    "X_train, X_test = X[:60000],X[60000:]\n",
    "Y_train, Y_test = y[:60000],y[60000:]"
   ]
  },
  {
   "cell_type": "markdown",
   "id": "157b5969-6ad1-45a2-ad78-e5cbbcb40581",
   "metadata": {},
   "source": [
    "# Model\n",
    "## K-nn preparation\n",
    "There are two parameters to play on: the distance function and the number of neighbors $K$."
   ]
  },
  {
   "cell_type": "code",
   "execution_count": 8,
   "id": "2c6dfc01-425b-40cb-93ec-ca6e8d6685e9",
   "metadata": {},
   "outputs": [
    {
     "name": "stdout",
     "output_type": "stream",
     "text": [
      "Shape of Training data:  (60000, 784)\n",
      "Shape of Testing data:  (10000, 784)\n"
     ]
    }
   ],
   "source": [
    "print('Shape of Training data: ', X_train.shape)\n",
    "print('Shape of Testing data: ', X_test.shape)"
   ]
  },
  {
   "cell_type": "markdown",
   "id": "2a4f443b-8794-4768-bcb8-8b5c56c17f72",
   "metadata": {},
   "source": [
    "Given the numerous data, K-nn calculate the distances between all the training points and the point to be tested.\\\n",
    "The calculations can be time-consuming.\\\n",
    "We reduce their size by 100"
   ]
  },
  {
   "cell_type": "code",
   "execution_count": 10,
   "id": "e3097b46-9ec9-4e17-a99a-06c16b31d1e2",
   "metadata": {},
   "outputs": [],
   "source": [
    "a = []\n",
    "b = []\n",
    "for i in range(60000):\n",
    "    a.append(i) \n",
    "for j in range(10000):\n",
    "    b.append(j)\n",
    "\n",
    "sample_knn_train = rd.sample(a,600)\n",
    "sample_knn_test = rd.sample(b,100)"
   ]
  },
  {
   "cell_type": "code",
   "execution_count": 11,
   "id": "3e046b18-95f9-49cf-bae3-400d510f119b",
   "metadata": {},
   "outputs": [],
   "source": [
    "X_train_kNN = X_train.iloc[sample_knn_train]\n",
    "Y_train_kNN = Y_train.iloc[sample_knn_train]\n",
    "X_test_kNN = X_test.iloc[sample_knn_test]\n",
    "Y_test_kNN = Y_test.iloc[sample_knn_test]"
   ]
  },
  {
   "cell_type": "code",
   "execution_count": 12,
   "id": "19afbb6a-490d-4bf9-841e-9ef113ebfcc2",
   "metadata": {},
   "outputs": [
    {
     "name": "stdout",
     "output_type": "stream",
     "text": [
      "Shape of Training data:  (600, 784)\n",
      "Shape of Testing data:  (100, 784)\n"
     ]
    }
   ],
   "source": [
    "print('Shape of Training data: ', X_train_kNN.shape)\n",
    "print('Shape of Testing data: ', X_test_kNN.shape)"
   ]
  },
  {
   "cell_type": "code",
   "execution_count": 13,
   "id": "6cf2e826-1fb9-4435-8024-8f14fc1a3077",
   "metadata": {},
   "outputs": [
    {
     "name": "stdout",
     "output_type": "stream",
     "text": [
      "Shape of Training label:  (600,)\n",
      "Shape of Testing label:  (100,)\n"
     ]
    }
   ],
   "source": [
    "print('Shape of Training label: ', Y_train_kNN.shape)\n",
    "print('Shape of Testing label: ', Y_test_kNN.shape)"
   ]
  },
  {
   "cell_type": "markdown",
   "id": "18b80e59-449d-4922-8b99-ac84a8aa7fab",
   "metadata": {},
   "source": [
    "## K-nn definition"
   ]
  },
  {
   "cell_type": "markdown",
   "id": "fb964f97-d850-4080-a763-41e37473eb5d",
   "metadata": {},
   "source": [
    "### distance function"
   ]
  },
  {
   "cell_type": "code",
   "execution_count": 36,
   "id": "c635df21-d789-48b9-8b7e-596a648341ec",
   "metadata": {},
   "outputs": [],
   "source": [
    "def d1(x,y):\n",
    "    return np.sum(np.square(x-y))\n",
    "def d2(x,y):\n",
    "    return np.sqrt(np.sum(np.square(x-y)))\n",
    "def d(x,y):\n",
    "    return np.linalg.norm(x-y)"
   ]
  },
  {
   "cell_type": "markdown",
   "id": "16defa50-47b1-433c-9e7a-a8175b49f212",
   "metadata": {},
   "source": [
    "### K-nn function"
   ]
  },
  {
   "cell_type": "code",
   "execution_count": 16,
   "id": "c689fbc9-232c-4394-a3c9-75dbcbeba04b",
   "metadata": {},
   "outputs": [],
   "source": [
    "def kNN(x, k ,data, label):\n",
    "    #list of distance between a given picture and train pictures\n",
    "    distances =[d1(x,data.iloc[i]) for i in range(len(data))]\n",
    "    idx = np.argpartition(distances, k)\n",
    "    clas, freq = np.unique(label.iloc[idx[:k]], return_counts=True)\n",
    "    return clas[np.argmax(freq)]"
   ]
  },
  {
   "cell_type": "markdown",
   "id": "0cc7d047-4deb-4feb-86d6-83116883414a",
   "metadata": {},
   "source": [
    "### Test with one picture"
   ]
  },
  {
   "cell_type": "code",
   "execution_count": 19,
   "id": "48dca6bd-3956-4aa8-b00f-57b101bc8652",
   "metadata": {},
   "outputs": [
    {
     "name": "stdout",
     "output_type": "stream",
     "text": [
      "Predicted value:  6 \n",
      "Real value:  6\n"
     ]
    }
   ],
   "source": [
    "i = 5\n",
    "K = 5\n",
    "print('Predicted value: ', kNN(X_test_kNN.iloc[i], K, X_train_kNN, Y_train_kNN), '\\nReal value: ',Y_test_kNN.iloc[i])"
   ]
  },
  {
   "cell_type": "markdown",
   "id": "03828f19-3101-43d0-9424-ebe9d4bd46b0",
   "metadata": {},
   "source": [
    "### Test with all test picture and K=5"
   ]
  },
  {
   "cell_type": "code",
   "execution_count": 22,
   "id": "b957e9cd-f5ce-4fd3-a1f6-336e3390bcac",
   "metadata": {},
   "outputs": [],
   "source": [
    "#accuracy list\n",
    "acc_lst_kNN = []\n",
    "for i in range(len(Y_test_kNN)-1):\n",
    "    if kNN(X_test_kNN.iloc[i], 5, X_train_kNN, Y_train_kNN) == Y_test_kNN.iloc[i]:\n",
    "        acc_lst_kNN.append(1)\n",
    "    else:\n",
    "        acc_lst_kNN.append(0)"
   ]
  },
  {
   "cell_type": "code",
   "execution_count": 24,
   "id": "ca1ece80-569d-444d-b87a-865f0e0f5f6b",
   "metadata": {},
   "outputs": [
    {
     "name": "stdout",
     "output_type": "stream",
     "text": [
      "Accuracy for K= 5 :  92.93 %\n"
     ]
    }
   ],
   "source": [
    "Accuracy = sum(acc_lst_kNN)/len(acc_lst_kNN)\n",
    "print(\"Accuracy for K=\",5,\": \", round(Accuracy*100,2), \"%\")"
   ]
  },
  {
   "cell_type": "markdown",
   "id": "ed260e6f-57f8-495d-988f-ee519a1e16b9",
   "metadata": {},
   "source": [
    "### K optimisation"
   ]
  },
  {
   "cell_type": "code",
   "execution_count": 25,
   "id": "78a93024-838d-42b5-b5ac-8da4b329b8e0",
   "metadata": {},
   "outputs": [],
   "source": [
    "k_list = np.arange(1,15)"
   ]
  },
  {
   "cell_type": "code",
   "execution_count": 27,
   "id": "ea81918f-ec45-468e-8023-cced42322ba1",
   "metadata": {},
   "outputs": [],
   "source": [
    "Accuracy_list = []\n",
    "for k in k_list:\n",
    "    acc_lst_kNN = []\n",
    "    for i in range(len(Y_test_kNN)-1):\n",
    "        if kNN(X_test_kNN.iloc[i], k, X_train_kNN, Y_train_kNN) == Y_test_kNN.iloc[i]:\n",
    "            acc_lst_kNN.append(1)\n",
    "        else:\n",
    "            acc_lst_kNN.append(0)\n",
    "    Accuracy_list.append((sum(acc_lst_kNN)/len(acc_lst_kNN))*100)"
   ]
  },
  {
   "cell_type": "code",
   "execution_count": 30,
   "id": "f8d3799d-28b7-48e2-8210-b49d40a0e61d",
   "metadata": {},
   "outputs": [
    {
     "data": {
      "image/png": "[encoded data removed]",
      "text/plain": [
       "<Figure size 432x288 with 1 Axes>"
      ]
     },
     "metadata": {
      "needs_background": "light"
     },
     "output_type": "display_data"
    }
   ],
   "source": [
    "plt.figure()\n",
    "plt.grid()\n",
    "plt.plot(k_list,Accuracy_list)\n",
    "plt.scatter(k_list,Accuracy_list,c=\"darkblue\")\n",
    "plt.xlabel(\"K values\")\n",
    "plt.ylabel(\"Accuracy (%)\")\n",
    "plt.show()"
   ]
  },
  {
   "cell_type": "markdown",
   "id": "8224f2ae-aecb-4822-87b3-7c502357f20d",
   "metadata": {},
   "source": [
    "$K = 3$ gives us an accuracy of $96$%.\\\n",
    "Warnings : the model has been trained with few values, it is less robust."
   ]
  },
  {
   "cell_type": "code",
   "execution_count": null,
   "id": "b27827e4-5c21-4251-b4e6-4108cdcf3676",
   "metadata": {},
   "outputs": [],
   "source": []
  }
 ],
 "metadata": {
  "kernelspec": {
   "display_name": "Python 3 (ipykernel)",
   "language": "python",
   "name": "python3"
  },
  "language_info": {
   "codemirror_mode": {
    "name": "ipython",
    "version": 3
   },
   "file_extension": ".py",
   "mimetype": "text/x-python",
   "name": "python",
   "nbconvert_exporter": "python",
   "pygments_lexer": "ipython3",
   "version": "3.9.7"
  }
 },
 "nbformat": 4,
 "nbformat_minor": 5
}
