{
 "cells": [
  {
   "cell_type": "code",
   "execution_count": 1,
   "id": "a5688a23-7631-416b-84d5-d2d49d501837",
   "metadata": {},
   "outputs": [],
   "source": [
    "from sklearn.datasets import fetch_openml\n",
    "import matplotlib.pyplot as plt\n",
    "import numpy as np\n",
    "import random as rd\n",
    "from sklearn.linear_model import SGDClassifier\n",
    "from sklearn.model_selection import cross_val_score"
   ]
  },
  {
   "cell_type": "markdown",
   "id": "1e3344bf-0aee-4b1c-90b5-96876a1562da",
   "metadata": {},
   "source": [
    "# Data"
   ]
  },
  {
   "cell_type": "markdown",
   "id": "a528e182-94fc-4e1a-a78f-24103fb32351",
   "metadata": {},
   "source": [
    "## Loading"
   ]
  },
  {
   "cell_type": "code",
   "execution_count": null,
   "id": "ba53b3ef-3d65-4213-94e4-41ad65068052",
   "metadata": {},
   "outputs": [],
   "source": [
    "mnist_data = fetch_openml('mnist_784',version = 1)"
   ]
  },
  {
   "cell_type": "markdown",
   "id": "832c57d4-5bb7-4e06-9f97-075d66886de1",
   "metadata": {},
   "source": [
    "## Exploration"
   ]
  },
  {
   "cell_type": "code",
   "execution_count": null,
   "id": "c095e5c1-4157-49d2-b6c2-84a8b61dc301",
   "metadata": {},
   "outputs": [],
   "source": [
    "print(mnist_data.keys())"
   ]
  },
  {
   "cell_type": "code",
   "execution_count": null,
   "id": "a48f3c04-9d7a-4844-898c-dd2c0f4f8008",
   "metadata": {},
   "outputs": [],
   "source": [
    "X, y = mnist_data['data'], mnist_data['target']\n",
    "print('Shape of X:', X.shape, '\\nShape of y:', y.shape)"
   ]
  },
  {
   "cell_type": "code",
   "execution_count": null,
   "id": "220e1980-7f11-4276-98a7-efbede6fadb8",
   "metadata": {},
   "outputs": [],
   "source": [
    "plt.figure(figsize=(9,9))\n",
    "for i in np.arange(1,26):\n",
    "    digit= X.iloc[i-1]\n",
    "    digit_pixels = np.array(digit).reshape(28,28)\n",
    "    plt.subplot(5,5,i)\n",
    "    plt.imshow(digit_pixels)\n",
    "    plt.axis('off')\n",
    "plt.show()"
   ]
  },
  {
   "cell_type": "code",
   "execution_count": null,
   "id": "c9ce06ef-91a2-4f13-a231-5658ee507cfc",
   "metadata": {},
   "outputs": [],
   "source": [
    "type(y[0])"
   ]
  },
  {
   "cell_type": "markdown",
   "id": "8e9aa804-b94d-4a93-933b-f6d7cff34eed",
   "metadata": {},
   "source": [
    "The data type is transformed into integer"
   ]
  },
  {
   "cell_type": "code",
   "execution_count": null,
   "id": "e4b37b0f-db7b-4041-a910-43fa7f0f2dce",
   "metadata": {},
   "outputs": [],
   "source": [
    "y = y.astype(np.uint8)\n",
    "type(y[0])"
   ]
  },
  {
   "cell_type": "markdown",
   "id": "79e23fe8-281c-40a9-9480-a41f4f6f8d0a",
   "metadata": {},
   "source": [
    "## Separation into training and test data"
   ]
  },
  {
   "cell_type": "code",
   "execution_count": null,
   "id": "e6c854f6-846f-410b-a309-dd6395381cc3",
   "metadata": {},
   "outputs": [],
   "source": [
    "X_train, X_test = X[:60000],X[60000:]\n",
    "Y_train, Y_test = y[:60000],y[60000:]\n",
    "#print(\"Images d'apprentissage:\\n\",X_train,\"\\nImages de test:\\n\",X_test,\n",
    "#    \"\\nLabels d'apprentissage:\\n\",Y_train,\"\\nLabels de Test:\\n\", Y_test)"
   ]
  },
  {
   "cell_type": "markdown",
   "id": "1504d59e-ff4b-4fd8-8f6a-5988c5a323d6",
   "metadata": {
    "tags": []
   },
   "source": [
    "# Model"
   ]
  },
  {
   "cell_type": "markdown",
   "id": "d1cc626a-8dac-4f08-9c50-e74bfcd8d80a",
   "metadata": {
    "tags": []
   },
   "source": [
    "## Stochastic Gradient Descent (SGD) to Train Linear Classifiers"
   ]
  },
  {
   "cell_type": "markdown",
   "id": "edf9201a-7f69-4732-b219-98ebef6261a9",
   "metadata": {},
   "source": [
    "'hinge' loss function for a linear SVM "
   ]
  },
  {
   "cell_type": "code",
   "execution_count": null,
   "id": "bb2b82b4-c2b2-42f5-bbd3-e26f990a070e",
   "metadata": {},
   "outputs": [],
   "source": [
    "sgd_clf = SGDClassifier(loss='hinge', random_state=42)\n",
    "sgd_clf.fit(X_train,Y_train)"
   ]
  },
  {
   "cell_type": "markdown",
   "id": "b8d5a728-2da3-47a5-8839-d00aedac7055",
   "metadata": {},
   "source": [
    "### Cross-validation (3)"
   ]
  },
  {
   "cell_type": "code",
   "execution_count": null,
   "id": "95793f5b-0bf3-45c0-9801-2d4bcadda45d",
   "metadata": {},
   "outputs": [],
   "source": [
    "cross_val_score(sgd_clf, X_train, Y_train, cv=3, scoring ='accuracy')"
   ]
  },
  {
   "cell_type": "markdown",
   "id": "d9cc495f-07e3-41a3-b391-dc098a9837a2",
   "metadata": {},
   "source": [
    "86.7% accuracy"
   ]
  },
  {
   "cell_type": "markdown",
   "id": "1c7ba7a0-d434-444e-b465-b9a3f3f99cc2",
   "metadata": {},
   "source": [
    "### Score with test data"
   ]
  },
  {
   "cell_type": "code",
   "execution_count": null,
   "id": "0d24c0e9-e905-40d7-86aa-d357f2bd9c43",
   "metadata": {},
   "outputs": [],
   "source": [
    "score = sgd_clf.score(X_test, Y_test)\n",
    "print(\"Classifier accuracy on test data: \", score*100,\"%\")"
   ]
  },
  {
   "cell_type": "code",
   "execution_count": null,
   "id": "3b903890-e83b-4c44-baf3-3aee3b7766ad",
   "metadata": {},
   "outputs": [],
   "source": [
    "false_lst = []\n",
    "for i in range(len(Y_test)):\n",
    "    if sgd_clf.predict([X_test.iloc[i,:]])[0] != Y_test.iloc[i]:\n",
    "        false_lst.append(i)"
   ]
  },
  {
   "cell_type": "code",
   "execution_count": null,
   "id": "5e17058e-586b-433e-b86c-4fd5908b806e",
   "metadata": {},
   "outputs": [],
   "source": [
    "len(false_lst)"
   ]
  },
  {
   "cell_type": "markdown",
   "id": "9b9f0f91-1b54-4984-a079-034d230304c7",
   "metadata": {},
   "source": [
    "We have 1260 badly predicted images and therefore 8740 correctly predicted images, we fall back on our accuracy.\\\n",
    "Let's look at which images have been mispredicted."
   ]
  },
  {
   "cell_type": "code",
   "execution_count": null,
   "id": "b78485ec-3987-43e9-a53f-31bc7408635f",
   "metadata": {},
   "outputs": [],
   "source": [
    "sample = rd.sample(false_lst, 24)\n",
    "X_test_sample = X_test.iloc[sample,:]\n",
    "Y_test_sample = Y_test.iloc[sample]\n",
    "Y_pred_sample = []\n",
    "for i in sample:\n",
    "    Y_pred_sample.append(sgd_clf.predict([X_test.iloc[i,:]]))"
   ]
  },
  {
   "cell_type": "code",
   "execution_count": null,
   "id": "7a4574f8-8961-480e-900a-9d52da3148ab",
   "metadata": {},
   "outputs": [],
   "source": [
    "plt.figure(figsize=(14,14))\n",
    "for i in np.arange(1,25):\n",
    "    \n",
    "    digit= X_test_sample.iloc[i-1]\n",
    "    digit_pixels = np.array(digit).reshape(28,28)\n",
    "    \n",
    "    plt.subplot(8,8,2*i)\n",
    "    plt.imshow(digit_pixels)\n",
    "    plt.axis('off')\n",
    "    \n",
    "    plt.subplot(8,8,2*i-1)\n",
    "    plt.hist([Y_pred_sample[i-1]],range(0,11),color=\"red\",linewidth=10)#predicted\n",
    "    plt.hist([Y_test_sample.iloc[i-1]],range(0,11),color=\"green\",linewidth=10)#real\n",
    "    plt.xticks(range(10))\n",
    "    plt.yticks([])\n",
    "    \n",
    "plt.show()"
   ]
  },
  {
   "cell_type": "markdown",
   "id": "5f1907d3-5368-4047-a34a-ee87169ba456",
   "metadata": {
    "tags": []
   },
   "source": [
    "## Logistic Regression"
   ]
  },
  {
   "cell_type": "markdown",
   "id": "1522e6ee-0269-4226-ba50-4937c871416a",
   "metadata": {},
   "source": [
    "'log' loss function for a logistic SVM "
   ]
  },
  {
   "cell_type": "code",
   "execution_count": null,
   "id": "cb26ccda-ea85-4ce5-9eff-41f73d6418c2",
   "metadata": {},
   "outputs": [],
   "source": [
    "sgd_clf1 = SGDClassifier(loss='log', random_state=42)\n",
    "sgd_clf1.fit(X_train,Y_train)"
   ]
  },
  {
   "cell_type": "markdown",
   "id": "1cbbfc88-1426-4f8c-8077-4bfafb6c2ccf",
   "metadata": {},
   "source": [
    " ### Cross-validation"
   ]
  },
  {
   "cell_type": "code",
   "execution_count": null,
   "id": "ba713805-2741-4c72-a1f9-68305fea676a",
   "metadata": {},
   "outputs": [],
   "source": [
    "cross_val_score(sgd_clf1, X_train, Y_train, cv=3, scoring ='accuracy')"
   ]
  },
  {
   "cell_type": "markdown",
   "id": "91e2cb67-7682-4a65-b3f2-1607f51f5a65",
   "metadata": {},
   "source": [
    "Accuracy : 87.58%"
   ]
  },
  {
   "cell_type": "markdown",
   "id": "0feb078d-0a8f-4a95-b308-aff789e82483",
   "metadata": {},
   "source": [
    "### Score with test data"
   ]
  },
  {
   "cell_type": "code",
   "execution_count": null,
   "id": "f0e0ce36-6c34-45f0-a03a-3b15f20305b5",
   "metadata": {},
   "outputs": [],
   "source": [
    "score = sgd_clf1.score(X_test, Y_test)\n",
    "print(\"Accuracy with test data: \", score*100,\"%\")"
   ]
  },
  {
   "cell_type": "code",
   "execution_count": null,
   "id": "381ee9ae-4a09-4eb3-9d56-15f5473c81c8",
   "metadata": {},
   "outputs": [],
   "source": [
    "fake_list1 = []\n",
    "for i in range(len(Y_test)):\n",
    "    if sgd_clf1.predict([X_test.iloc[i,:]])[0] != Y_test.iloc[i]:\n",
    "        fake_list1.append(i)"
   ]
  },
  {
   "cell_type": "code",
   "execution_count": null,
   "id": "fa73e918-1b9a-4d1a-82da-2842d7afc60c",
   "metadata": {},
   "outputs": [],
   "source": [
    "if len(set(Liste_faux1).intersection(sample))==len(sample):\n",
    "    print(\"still misclassified\")\n",
    "else :\n",
    "    print(\"Some images that were initially poorly predicted are now correctly predicted\")"
   ]
  },
  {
   "cell_type": "code",
   "execution_count": null,
   "id": "26f0935c-eaf9-4c7d-98fb-3fca4c9c3ac6",
   "metadata": {},
   "outputs": [],
   "source": [
    "Y_pred_sample1 = []\n",
    "for i in sample:\n",
    "    Y_pred_sample1.append(sgd_clf1.predict([X_test.iloc[i,:]]))"
   ]
  },
  {
   "cell_type": "code",
   "execution_count": null,
   "id": "adc8e622-7872-4e3c-b15d-5526409ad0be",
   "metadata": {},
   "outputs": [],
   "source": [
    "plt.figure(figsize=(14,14))\n",
    "for i in np.arange(1,25):\n",
    "    digit= X_test_sample.iloc[i-1]\n",
    "    digit_pixels = np.array(digit).reshape(28,28)\n",
    "    plt.subplot(8,8,2*i)\n",
    "    plt.imshow(digit_pixels)\n",
    "    plt.axis('off')\n",
    "    plt.subplot(8,8,2*i-1)\n",
    "    if Y_pred_sample1[i-1]==Y_pred_sample[i-1]:\n",
    "        plt.hist([Y_pred_sample1[i-1]],range(0,11),color=\"purple\",linewidth=10)\n",
    "    else:\n",
    "        plt.hist([Y_pred_sample1[i-1]],range(0,11),color=\"red\",linewidth=10)#predicted\n",
    "        plt.hist([Y_pred_sample[i-1]],range(0,11),color=\"orange\",linewidth=10)#predicted\n",
    "    plt.hist([Y_test_sample.iloc[i-1]],range(0,11),color=\"green\",linewidth=10)#real\n",
    "    plt.xticks(range(10))\n",
    "    plt.yticks([])\n",
    "plt.show()"
   ]
  },
  {
   "cell_type": "markdown",
   "id": "777c9b31-6f8c-4819-a1ca-3fe1611d2fed",
   "metadata": {},
   "source": [
    "If the histograms have three bars ($\\textbf{Green}$,$\\textbf{Orange}$,$\\textbf{Red}$): The predictions are wrong but the prediction results are different.\\\n",
    "If the histograms have two bars ($\\textbf{Green}$,$\\textbf{Purple}$): The predictions are wrong and have not changed.\\\n",
    "If the histograms show two bars ($\\textbf{Green}$,$\\textbf{Orange}$): The new predictions are good."
   ]
  },
  {
   "cell_type": "code",
   "execution_count": null,
   "id": "f7099e77-ff1e-4e6b-9511-3c7060a412ce",
   "metadata": {},
   "outputs": [],
   "source": []
  }
 ],
 "metadata": {
  "kernelspec": {
   "display_name": "Python 3 (ipykernel)",
   "language": "python",
   "name": "python3"
  },
  "language_info": {
   "codemirror_mode": {
    "name": "ipython",
    "version": 3
   },
   "file_extension": ".py",
   "mimetype": "text/x-python",
   "name": "python",
   "nbconvert_exporter": "python",
   "pygments_lexer": "ipython3",
   "version": "3.9.7"
  }
 },
 "nbformat": 4,
 "nbformat_minor": 5
}
